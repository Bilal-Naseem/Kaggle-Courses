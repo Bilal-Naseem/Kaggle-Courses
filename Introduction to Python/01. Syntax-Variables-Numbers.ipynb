{
 "cells": [
  {
   "cell_type": "markdown",
   "id": "a17378dd",
   "metadata": {
    "papermill": {
     "duration": 0.021372,
     "end_time": "2021-08-04T20:59:30.127640",
     "exception": false,
     "start_time": "2021-08-04T20:59:30.106268",
     "status": "completed"
    },
    "tags": []
   },
   "source": [
    "**This notebook is an exercise in the [Python](https://www.kaggle.com/learn/python) course.  You can reference the tutorial at [this link](https://www.kaggle.com/colinmorris/hello-python).**\n",
    "\n",
    "---\n"
   ]
  },
  {
   "cell_type": "markdown",
   "id": "9534f2cc",
   "metadata": {
    "papermill": {
     "duration": 0.01913,
     "end_time": "2021-08-04T20:59:30.166663",
     "exception": false,
     "start_time": "2021-08-04T20:59:30.147533",
     "status": "completed"
    },
    "tags": []
   },
   "source": [
    "Welcome to your first set of Python coding problems.  If this is your first time using Kaggle Notebooks, welcome! \n",
    "\n",
    "Notebooks are composed of blocks (called \"cells\") of text and code. Each of these is editable, though you'll mainly be editing the code cells to answer some questions.\n",
    "\n",
    "To get started, try running the code cell below (by pressing the ► button, or clicking on the cell and pressing ctrl+enter on your keyboard)."
   ]
  },
  {
   "cell_type": "code",
   "execution_count": 1,
   "id": "413a2514",
   "metadata": {
    "execution": {
     "iopub.execute_input": "2021-08-04T20:59:30.209746Z",
     "iopub.status.busy": "2021-08-04T20:59:30.208587Z",
     "iopub.status.idle": "2021-08-04T20:59:30.219944Z",
     "shell.execute_reply": "2021-08-04T20:59:30.220534Z",
     "shell.execute_reply.started": "2021-08-04T20:51:19.389760Z"
    },
    "papermill": {
     "duration": 0.034765,
     "end_time": "2021-08-04T20:59:30.220853",
     "exception": false,
     "start_time": "2021-08-04T20:59:30.186088",
     "status": "completed"
    },
    "tags": []
   },
   "outputs": [
    {
     "name": "stdout",
     "output_type": "stream",
     "text": [
      "You've successfully run some Python code\n",
      "Congratulations!\n"
     ]
    }
   ],
   "source": [
    "print(\"You've successfully run some Python code\")\n",
    "print(\"Congratulations!\")"
   ]
  },
  {
   "cell_type": "markdown",
   "id": "310e7dbe",
   "metadata": {
    "papermill": {
     "duration": 0.019502,
     "end_time": "2021-08-04T20:59:30.260546",
     "exception": false,
     "start_time": "2021-08-04T20:59:30.241044",
     "status": "completed"
    },
    "tags": []
   },
   "source": [
    "Try adding another line of code in the cell above and re-running it. \n",
    "\n",
    "Now let's get a little fancier:  Add a new code cell by clicking on an existing code cell, hitting the escape key, and then hitting the `a` or `b` key.  The `a` key will add a cell above the current cell, and `b` adds a cell below.\n",
    "\n",
    "Great! Now you know how to use Notebooks.\n",
    "\n",
    "Each hands-on exercise starts by setting up our feedback and code checking mechanism. Run the code cell below to do that. Then you'll be ready to move on to question 0."
   ]
  },
  {
   "cell_type": "code",
   "execution_count": 2,
   "id": "4039d84a",
   "metadata": {
    "_kg_hide-input": true,
    "_kg_hide-output": true,
    "execution": {
     "iopub.execute_input": "2021-08-04T20:59:30.306858Z",
     "iopub.status.busy": "2021-08-04T20:59:30.306122Z",
     "iopub.status.idle": "2021-08-04T20:59:30.439111Z",
     "shell.execute_reply": "2021-08-04T20:59:30.438160Z",
     "shell.execute_reply.started": "2021-08-04T20:51:19.407026Z"
    },
    "papermill": {
     "duration": 0.157822,
     "end_time": "2021-08-04T20:59:30.439260",
     "exception": false,
     "start_time": "2021-08-04T20:59:30.281438",
     "status": "completed"
    },
    "tags": []
   },
   "outputs": [
    {
     "name": "stdout",
     "output_type": "stream",
     "text": [
      "Setup complete! You're ready to start question 0.\n"
     ]
    }
   ],
   "source": [
    "from learntools.core import binder; binder.bind(globals())\n",
    "from learntools.python.ex1 import *\n",
    "print(\"Setup complete! You're ready to start question 0.\")"
   ]
  },
  {
   "cell_type": "markdown",
   "id": "fe3c6c81",
   "metadata": {
    "papermill": {
     "duration": 0.019774,
     "end_time": "2021-08-04T20:59:30.479424",
     "exception": false,
     "start_time": "2021-08-04T20:59:30.459650",
     "status": "completed"
    },
    "tags": []
   },
   "source": [
    "# 0.\n",
    "\n",
    "*This is a silly question intended as an introduction to the format we use for hands-on exercises throughout all Kaggle courses.*\n",
    "\n",
    "**What is your favorite color? **\n",
    "\n",
    "To complete this question, create a variable called `color` in the cell below with an appropriate value. The function call `q0.check()` (which we've already provided in the cell below) will check your answer."
   ]
  },
  {
   "cell_type": "code",
   "execution_count": 3,
   "id": "87f2f3ec",
   "metadata": {
    "execution": {
     "iopub.execute_input": "2021-08-04T20:59:30.527946Z",
     "iopub.status.busy": "2021-08-04T20:59:30.527257Z",
     "iopub.status.idle": "2021-08-04T20:59:30.531768Z",
     "shell.execute_reply": "2021-08-04T20:59:30.532355Z",
     "shell.execute_reply.started": "2021-08-04T20:52:05.971133Z"
    },
    "papermill": {
     "duration": 0.032857,
     "end_time": "2021-08-04T20:59:30.532535",
     "exception": false,
     "start_time": "2021-08-04T20:59:30.499678",
     "status": "completed"
    },
    "tags": []
   },
   "outputs": [
    {
     "data": {
      "application/javascript": [
       "parent.postMessage({\"jupyterEvent\": \"custom.exercise_interaction\", \"data\": {\"outcomeType\": 1, \"valueTowardsCompletion\": 0.25, \"interactionType\": 1, \"questionType\": 2, \"questionId\": \"0_ExerciseFormatTutorial\", \"learnToolsVersion\": \"0.3.4\", \"failureMessage\": \"\", \"exceptionClass\": \"\", \"trace\": \"\"}}, \"*\")"
      ],
      "text/plain": [
       "<IPython.core.display.Javascript object>"
      ]
     },
     "metadata": {},
     "output_type": "display_data"
    },
    {
     "data": {
      "text/markdown": [
       "<span style=\"color:#33cc33\">Correct:</span> What?! You got it right without needing a hint or anything? Drats. Well hey, you should still continue to the next step to get some practice asking for a hint and checking solutions. (Even though you obviously don't need any help here.)"
      ],
      "text/plain": [
       "Correct: What?! You got it right without needing a hint or anything? Drats. Well hey, you should still continue to the next step to get some practice asking for a hint and checking solutions. (Even though you obviously don't need any help here.)"
      ]
     },
     "metadata": {},
     "output_type": "display_data"
    }
   ],
   "source": [
    "# create a variable called color with an appropriate value on the line below\n",
    "# (Remember, strings in Python must be enclosed in 'single' or \"double\" quotes)\n",
    "color = 'blue'\n",
    "\n",
    "# Check your answer\n",
    "q0.check()"
   ]
  },
  {
   "cell_type": "markdown",
   "id": "5722f232",
   "metadata": {
    "papermill": {
     "duration": 0.020686,
     "end_time": "2021-08-04T20:59:30.574743",
     "exception": false,
     "start_time": "2021-08-04T20:59:30.554057",
     "status": "completed"
    },
    "tags": []
   },
   "source": [
    "Didn't get the right answer? How do you not even know your own favorite color?!\n",
    "\n",
    "Delete the `#` in the line below to make one of the lines run. You can choose between getting a hint or the full answer by choosing which line to remove the `#` from. \n",
    "\n",
    "Removing the `#` is called uncommenting, because it changes that line from a \"comment\" which Python doesn't run to code, which Python does run."
   ]
  },
  {
   "cell_type": "code",
   "execution_count": 4,
   "id": "db9f32f5",
   "metadata": {
    "execution": {
     "iopub.execute_input": "2021-08-04T20:59:30.620958Z",
     "iopub.status.busy": "2021-08-04T20:59:30.620270Z",
     "iopub.status.idle": "2021-08-04T20:59:30.624833Z",
     "shell.execute_reply": "2021-08-04T20:59:30.624337Z"
    },
    "papermill": {
     "duration": 0.028576,
     "end_time": "2021-08-04T20:59:30.624970",
     "exception": false,
     "start_time": "2021-08-04T20:59:30.596394",
     "status": "completed"
    },
    "tags": []
   },
   "outputs": [],
   "source": [
    "#q0.hint()\n",
    "#q0.solution()"
   ]
  },
  {
   "cell_type": "markdown",
   "id": "a0659a8e",
   "metadata": {
    "papermill": {
     "duration": 0.02078,
     "end_time": "2021-08-04T20:59:30.667060",
     "exception": false,
     "start_time": "2021-08-04T20:59:30.646280",
     "status": "completed"
    },
    "tags": []
   },
   "source": [
    "The upcoming questions work the same way. The only thing that will change are the question numbers. For the next question, you'll call `q1.check()`, `q1.hint()`, `q1.solution()`, for question 2, you'll call `q2.check()`, and so on."
   ]
  },
  {
   "cell_type": "markdown",
   "id": "37ba83a6",
   "metadata": {
    "papermill": {
     "duration": 0.02138,
     "end_time": "2021-08-04T20:59:30.710068",
     "exception": false,
     "start_time": "2021-08-04T20:59:30.688688",
     "status": "completed"
    },
    "tags": []
   },
   "source": [
    "<hr/>\n",
    "\n",
    "# 1.\n",
    "\n",
    "Complete the code below. In case it's helpful, here is the table of available arithmetic operations:\n",
    "\n",
    "\n",
    "\n",
    "| Operator     | Name           | Description                                            |\n",
    "|--------------|----------------|--------------------------------------------------------|\n",
    "| ``a + b``    | Addition       | Sum of ``a`` and ``b``                                 |\n",
    "| ``a - b``    | Subtraction    | Difference of ``a`` and ``b``                          |\n",
    "| ``a * b``    | Multiplication | Product of ``a`` and ``b``                             |\n",
    "| ``a / b``    | True division  | Quotient of ``a`` and ``b``                            |\n",
    "| ``a // b``   | Floor division | Quotient of ``a`` and ``b``, removing fractional parts |\n",
    "| ``a % b``    | Modulus        | Integer remainder after division of ``a`` by ``b``     |\n",
    "| ``a ** b``   | Exponentiation | ``a`` raised to the power of ``b``                     |\n",
    "| ``-a``       | Negation       | The negative of ``a``                                  |\n",
    "\n",
    "<span style=\"display:none\"></span>\n"
   ]
  },
  {
   "cell_type": "code",
   "execution_count": 5,
   "id": "02a5418a",
   "metadata": {
    "execution": {
     "iopub.execute_input": "2021-08-04T20:59:30.758324Z",
     "iopub.status.busy": "2021-08-04T20:59:30.757603Z",
     "iopub.status.idle": "2021-08-04T20:59:30.762607Z",
     "shell.execute_reply": "2021-08-04T20:59:30.761885Z",
     "shell.execute_reply.started": "2021-08-04T20:53:11.101710Z"
    },
    "papermill": {
     "duration": 0.031549,
     "end_time": "2021-08-04T20:59:30.762751",
     "exception": false,
     "start_time": "2021-08-04T20:59:30.731202",
     "status": "completed"
    },
    "tags": []
   },
   "outputs": [
    {
     "data": {
      "application/javascript": [
       "parent.postMessage({\"jupyterEvent\": \"custom.exercise_interaction\", \"data\": {\"outcomeType\": 1, \"valueTowardsCompletion\": 0.25, \"interactionType\": 1, \"questionType\": 1, \"questionId\": \"1_CircleArea\", \"learnToolsVersion\": \"0.3.4\", \"failureMessage\": \"\", \"exceptionClass\": \"\", \"trace\": \"\"}}, \"*\")"
      ],
      "text/plain": [
       "<IPython.core.display.Javascript object>"
      ]
     },
     "metadata": {},
     "output_type": "display_data"
    },
    {
     "data": {
      "text/markdown": [
       "<span style=\"color:#33cc33\">Correct</span>"
      ],
      "text/plain": [
       "Correct"
      ]
     },
     "metadata": {},
     "output_type": "display_data"
    }
   ],
   "source": [
    "pi = 3.14159 # approximate\n",
    "diameter = 3\n",
    "\n",
    "# Create a variable called 'radius' equal to half the diameter\n",
    "radius = 0.5 * diameter\n",
    "\n",
    "# Create a variable called 'area', using the formula for the area of a circle: pi times the radius squared\n",
    "area = pi * (radius**2)\n",
    "\n",
    "# Check your answer\n",
    "q1.check()"
   ]
  },
  {
   "cell_type": "code",
   "execution_count": 6,
   "id": "87a68206",
   "metadata": {
    "execution": {
     "iopub.execute_input": "2021-08-04T20:59:30.811105Z",
     "iopub.status.busy": "2021-08-04T20:59:30.810220Z",
     "iopub.status.idle": "2021-08-04T20:59:30.813626Z",
     "shell.execute_reply": "2021-08-04T20:59:30.814141Z"
    },
    "papermill": {
     "duration": 0.02921,
     "end_time": "2021-08-04T20:59:30.814333",
     "exception": false,
     "start_time": "2021-08-04T20:59:30.785123",
     "status": "completed"
    },
    "tags": []
   },
   "outputs": [],
   "source": [
    "# Uncomment and run the lines below if you need help.\n",
    "#q1.hint()\n",
    "#q1.solution()"
   ]
  },
  {
   "cell_type": "markdown",
   "id": "a2ed83ed",
   "metadata": {
    "papermill": {
     "duration": 0.02322,
     "end_time": "2021-08-04T20:59:30.860165",
     "exception": false,
     "start_time": "2021-08-04T20:59:30.836945",
     "status": "completed"
    },
    "tags": []
   },
   "source": [
    "<hr/>\n",
    "\n",
    "# 2.\n",
    "\n",
    "Add code to the following cell to swap variables `a` and `b` (so that `a` refers to the object previously referred to by `b` and vice versa)."
   ]
  },
  {
   "cell_type": "code",
   "execution_count": 7,
   "id": "c80074c3",
   "metadata": {
    "execution": {
     "iopub.execute_input": "2021-08-04T20:59:30.908971Z",
     "iopub.status.busy": "2021-08-04T20:59:30.908354Z",
     "iopub.status.idle": "2021-08-04T20:59:30.916518Z",
     "shell.execute_reply": "2021-08-04T20:59:30.915962Z",
     "shell.execute_reply.started": "2021-08-04T20:54:33.501260Z"
    },
    "papermill": {
     "duration": 0.033745,
     "end_time": "2021-08-04T20:59:30.916664",
     "exception": false,
     "start_time": "2021-08-04T20:59:30.882919",
     "status": "completed"
    },
    "tags": []
   },
   "outputs": [
    {
     "data": {
      "application/javascript": [
       "parent.postMessage({\"jupyterEvent\": \"custom.exercise_interaction\", \"data\": {\"outcomeType\": 1, \"valueTowardsCompletion\": 0.25, \"interactionType\": 1, \"questionType\": 2, \"questionId\": \"2_VariableSwap\", \"learnToolsVersion\": \"0.3.4\", \"failureMessage\": \"\", \"exceptionClass\": \"\", \"trace\": \"\"}}, \"*\")"
      ],
      "text/plain": [
       "<IPython.core.display.Javascript object>"
      ]
     },
     "metadata": {},
     "output_type": "display_data"
    },
    {
     "data": {
      "text/markdown": [
       "<span style=\"color:#33cc33\">Correct:</span> \n",
       "\n",
       "The most straightforward solution is to use a third variable to temporarily store one of the old values. e.g.:\n",
       "\n",
       "    tmp = a\n",
       "    a = b\n",
       "    b = tmp\n",
       "\n",
       "If you've read lots of Python code, you might have seen the following trick to swap two variables in one line:\n",
       "\n",
       "    a, b = b, a\n",
       "\n",
       "We'll demystify this bit of Python magic later when we talk about *tuples*."
      ],
      "text/plain": [
       "Correct: \n",
       "\n",
       "The most straightforward solution is to use a third variable to temporarily store one of the old values. e.g.:\n",
       "\n",
       "    tmp = a\n",
       "    a = b\n",
       "    b = tmp\n",
       "\n",
       "If you've read lots of Python code, you might have seen the following trick to swap two variables in one line:\n",
       "\n",
       "    a, b = b, a\n",
       "\n",
       "We'll demystify this bit of Python magic later when we talk about *tuples*."
      ]
     },
     "metadata": {},
     "output_type": "display_data"
    }
   ],
   "source": [
    "########### Setup code - don't touch this part ######################\n",
    "# If you're curious, these are examples of lists. We'll talk about \n",
    "# them in depth a few lessons from now. For now, just know that they're\n",
    "# yet another type of Python object, like int or float.\n",
    "a = [1, 2, 3]\n",
    "b = [3, 2, 1]\n",
    "q2.store_original_ids()\n",
    "######################################################################\n",
    "\n",
    "# Your code goes here. Swap the values to which a and b refer.\n",
    "# If you get stuck, you can always uncomment one or both of the lines in\n",
    "# the next cell for a hint, or to peek at the solution.\n",
    "a, b = b, a\n",
    "######################################################################\n",
    "\n",
    "# Check your answer\n",
    "q2.check()"
   ]
  },
  {
   "cell_type": "code",
   "execution_count": 8,
   "id": "3f2916c8",
   "metadata": {
    "execution": {
     "iopub.execute_input": "2021-08-04T20:59:30.968606Z",
     "iopub.status.busy": "2021-08-04T20:59:30.967942Z",
     "iopub.status.idle": "2021-08-04T20:59:30.970835Z",
     "shell.execute_reply": "2021-08-04T20:59:30.970312Z"
    },
    "papermill": {
     "duration": 0.030854,
     "end_time": "2021-08-04T20:59:30.970964",
     "exception": false,
     "start_time": "2021-08-04T20:59:30.940110",
     "status": "completed"
    },
    "tags": []
   },
   "outputs": [],
   "source": [
    "#q2.hint()"
   ]
  },
  {
   "cell_type": "code",
   "execution_count": 9,
   "id": "e42ec8cc",
   "metadata": {
    "execution": {
     "iopub.execute_input": "2021-08-04T20:59:31.022678Z",
     "iopub.status.busy": "2021-08-04T20:59:31.021964Z",
     "iopub.status.idle": "2021-08-04T20:59:31.023814Z",
     "shell.execute_reply": "2021-08-04T20:59:31.024277Z"
    },
    "papermill": {
     "duration": 0.030018,
     "end_time": "2021-08-04T20:59:31.024461",
     "exception": false,
     "start_time": "2021-08-04T20:59:30.994443",
     "status": "completed"
    },
    "tags": []
   },
   "outputs": [],
   "source": [
    "#q2.solution()"
   ]
  },
  {
   "cell_type": "markdown",
   "id": "6852aa8f",
   "metadata": {
    "papermill": {
     "duration": 0.023492,
     "end_time": "2021-08-04T20:59:31.072356",
     "exception": false,
     "start_time": "2021-08-04T20:59:31.048864",
     "status": "completed"
    },
    "tags": []
   },
   "source": [
    "<hr/>\n",
    "\n",
    "# 3a.\n",
    "\n",
    "Add parentheses to the following expression so that it evaluates to 1."
   ]
  },
  {
   "cell_type": "code",
   "execution_count": 10,
   "id": "dba1a52c",
   "metadata": {
    "execution": {
     "iopub.execute_input": "2021-08-04T20:59:31.123597Z",
     "iopub.status.busy": "2021-08-04T20:59:31.122960Z",
     "iopub.status.idle": "2021-08-04T20:59:31.127850Z",
     "shell.execute_reply": "2021-08-04T20:59:31.128379Z",
     "shell.execute_reply.started": "2021-08-04T20:55:16.587789Z"
    },
    "papermill": {
     "duration": 0.032114,
     "end_time": "2021-08-04T20:59:31.128550",
     "exception": false,
     "start_time": "2021-08-04T20:59:31.096436",
     "status": "completed"
    },
    "tags": []
   },
   "outputs": [
    {
     "data": {
      "text/plain": [
       "1"
      ]
     },
     "execution_count": 10,
     "metadata": {},
     "output_type": "execute_result"
    }
   ],
   "source": [
    "(5 - 3) // 2"
   ]
  },
  {
   "cell_type": "code",
   "execution_count": 11,
   "id": "fd63556a",
   "metadata": {
    "execution": {
     "iopub.execute_input": "2021-08-04T20:59:31.179626Z",
     "iopub.status.busy": "2021-08-04T20:59:31.178951Z",
     "iopub.status.idle": "2021-08-04T20:59:31.182175Z",
     "shell.execute_reply": "2021-08-04T20:59:31.182703Z"
    },
    "papermill": {
     "duration": 0.030273,
     "end_time": "2021-08-04T20:59:31.182872",
     "exception": false,
     "start_time": "2021-08-04T20:59:31.152599",
     "status": "completed"
    },
    "tags": []
   },
   "outputs": [],
   "source": [
    "#q3.a.hint()"
   ]
  },
  {
   "cell_type": "code",
   "execution_count": 12,
   "id": "45d7130b",
   "metadata": {
    "execution": {
     "iopub.execute_input": "2021-08-04T20:59:31.236168Z",
     "iopub.status.busy": "2021-08-04T20:59:31.235562Z",
     "iopub.status.idle": "2021-08-04T20:59:31.240527Z",
     "shell.execute_reply": "2021-08-04T20:59:31.239982Z",
     "shell.execute_reply.started": "2021-08-04T20:55:29.731868Z"
    },
    "papermill": {
     "duration": 0.03354,
     "end_time": "2021-08-04T20:59:31.240667",
     "exception": false,
     "start_time": "2021-08-04T20:59:31.207127",
     "status": "completed"
    },
    "tags": []
   },
   "outputs": [
    {
     "data": {
      "application/javascript": [
       "parent.postMessage({\"jupyterEvent\": \"custom.exercise_interaction\", \"data\": {\"interactionType\": 3, \"questionType\": 4, \"questionId\": \"3.1_ArithmeticParensEasy\", \"learnToolsVersion\": \"0.3.4\", \"valueTowardsCompletion\": 0.0, \"failureMessage\": \"\", \"exceptionClass\": \"\", \"trace\": \"\", \"outcomeType\": 4}}, \"*\")"
      ],
      "text/plain": [
       "<IPython.core.display.Javascript object>"
      ]
     },
     "metadata": {},
     "output_type": "display_data"
    },
    {
     "data": {
      "text/markdown": [
       "<span style=\"color:#33cc99\">Solution:</span> \n",
       "```python\n",
       "(5 - 3) // 2\n",
       "```"
      ],
      "text/plain": [
       "Solution: \n",
       "```python\n",
       "(5 - 3) // 2\n",
       "```"
      ]
     },
     "metadata": {},
     "output_type": "display_data"
    }
   ],
   "source": [
    "# Check your answer (Run this code cell to receive credit!)\n",
    "q3.a.solution()"
   ]
  },
  {
   "cell_type": "markdown",
   "id": "5060b0d2",
   "metadata": {
    "papermill": {
     "duration": 0.024766,
     "end_time": "2021-08-04T20:59:31.290709",
     "exception": false,
     "start_time": "2021-08-04T20:59:31.265943",
     "status": "completed"
    },
    "tags": []
   },
   "source": [
    "# 3b.  <span title=\"A bit spicy\" style=\"color: darkgreen \">🌶️</span>\n",
    "\n",
    "<small>Questions, like this one, marked a spicy pepper are a bit harder.</small>\n",
    "\n",
    "Add parentheses to the following expression so that it evaluates to 0."
   ]
  },
  {
   "cell_type": "code",
   "execution_count": 13,
   "id": "b81d56f2",
   "metadata": {
    "execution": {
     "iopub.execute_input": "2021-08-04T20:59:31.348022Z",
     "iopub.status.busy": "2021-08-04T20:59:31.347363Z",
     "iopub.status.idle": "2021-08-04T20:59:31.351219Z",
     "shell.execute_reply": "2021-08-04T20:59:31.351745Z",
     "shell.execute_reply.started": "2021-08-04T20:56:38.451151Z"
    },
    "papermill": {
     "duration": 0.034663,
     "end_time": "2021-08-04T20:59:31.351916",
     "exception": false,
     "start_time": "2021-08-04T20:59:31.317253",
     "status": "completed"
    },
    "tags": []
   },
   "outputs": [
    {
     "data": {
      "text/plain": [
       "0"
      ]
     },
     "execution_count": 13,
     "metadata": {},
     "output_type": "execute_result"
    }
   ],
   "source": [
    "(8 - (3 * 2)) - (1 + 1)"
   ]
  },
  {
   "cell_type": "code",
   "execution_count": 14,
   "id": "602b4e97",
   "metadata": {
    "execution": {
     "iopub.execute_input": "2021-08-04T20:59:31.407353Z",
     "iopub.status.busy": "2021-08-04T20:59:31.406696Z",
     "iopub.status.idle": "2021-08-04T20:59:31.409429Z",
     "shell.execute_reply": "2021-08-04T20:59:31.408925Z"
    },
    "papermill": {
     "duration": 0.031971,
     "end_time": "2021-08-04T20:59:31.409562",
     "exception": false,
     "start_time": "2021-08-04T20:59:31.377591",
     "status": "completed"
    },
    "tags": []
   },
   "outputs": [],
   "source": [
    "#q3.b.hint()"
   ]
  },
  {
   "cell_type": "code",
   "execution_count": 15,
   "id": "237838d3",
   "metadata": {
    "execution": {
     "iopub.execute_input": "2021-08-04T20:59:31.465843Z",
     "iopub.status.busy": "2021-08-04T20:59:31.465188Z",
     "iopub.status.idle": "2021-08-04T20:59:31.469920Z",
     "shell.execute_reply": "2021-08-04T20:59:31.470507Z",
     "shell.execute_reply.started": "2021-08-04T20:56:40.285794Z"
    },
    "papermill": {
     "duration": 0.03544,
     "end_time": "2021-08-04T20:59:31.470678",
     "exception": false,
     "start_time": "2021-08-04T20:59:31.435238",
     "status": "completed"
    },
    "tags": []
   },
   "outputs": [
    {
     "data": {
      "application/javascript": [
       "parent.postMessage({\"jupyterEvent\": \"custom.exercise_interaction\", \"data\": {\"interactionType\": 3, \"questionType\": 4, \"questionId\": \"3.2_ArithmeticParensHard\", \"learnToolsVersion\": \"0.3.4\", \"valueTowardsCompletion\": 0.0, \"failureMessage\": \"\", \"exceptionClass\": \"\", \"trace\": \"\", \"outcomeType\": 4}}, \"*\")"
      ],
      "text/plain": [
       "<IPython.core.display.Javascript object>"
      ]
     },
     "metadata": {},
     "output_type": "display_data"
    },
    {
     "data": {
      "text/markdown": [
       "<span style=\"color:#33cc99\">Solution:</span> `(8 - 3) * (2 - (1 + 1))` is one solution. There may be others."
      ],
      "text/plain": [
       "Solution: `(8 - 3) * (2 - (1 + 1))` is one solution. There may be others."
      ]
     },
     "metadata": {},
     "output_type": "display_data"
    }
   ],
   "source": [
    "# Check your answer (Run this code cell to receive credit!)\n",
    "q3.b.solution()"
   ]
  },
  {
   "cell_type": "markdown",
   "id": "a0acdfcf",
   "metadata": {
    "papermill": {
     "duration": 0.026178,
     "end_time": "2021-08-04T20:59:31.523587",
     "exception": false,
     "start_time": "2021-08-04T20:59:31.497409",
     "status": "completed"
    },
    "tags": []
   },
   "source": [
    "<hr/>\n",
    "\n",
    "# 4. \n",
    "Alice, Bob and Carol have agreed to pool their Halloween candy and split it evenly among themselves.\n",
    "For the sake of their friendship, any candies left over will be smashed. For example, if they collectively\n",
    "bring home 91 candies, they'll take 30 each and smash 1.\n",
    "\n",
    "Write an arithmetic expression below to calculate how many candies they must smash for a given haul."
   ]
  },
  {
   "cell_type": "code",
   "execution_count": 16,
   "id": "8bc6e4d9",
   "metadata": {
    "execution": {
     "iopub.execute_input": "2021-08-04T20:59:31.579950Z",
     "iopub.status.busy": "2021-08-04T20:59:31.579344Z",
     "iopub.status.idle": "2021-08-04T20:59:31.588613Z",
     "shell.execute_reply": "2021-08-04T20:59:31.587984Z",
     "shell.execute_reply.started": "2021-08-04T20:58:26.848666Z"
    },
    "papermill": {
     "duration": 0.038299,
     "end_time": "2021-08-04T20:59:31.588752",
     "exception": false,
     "start_time": "2021-08-04T20:59:31.550453",
     "status": "completed"
    },
    "tags": []
   },
   "outputs": [
    {
     "data": {
      "application/javascript": [
       "parent.postMessage({\"jupyterEvent\": \"custom.exercise_interaction\", \"data\": {\"outcomeType\": 1, \"valueTowardsCompletion\": 0.25, \"interactionType\": 1, \"questionType\": 1, \"questionId\": \"4_CandySplitting\", \"learnToolsVersion\": \"0.3.4\", \"failureMessage\": \"\", \"exceptionClass\": \"\", \"trace\": \"\"}}, \"*\")"
      ],
      "text/plain": [
       "<IPython.core.display.Javascript object>"
      ]
     },
     "metadata": {},
     "output_type": "display_data"
    },
    {
     "data": {
      "text/markdown": [
       "<span style=\"color:#33cc33\">Correct</span>"
      ],
      "text/plain": [
       "Correct"
      ]
     },
     "metadata": {},
     "output_type": "display_data"
    }
   ],
   "source": [
    "# Variables representing the number of candies collected by alice, bob, and carol\n",
    "alice_candies = 121\n",
    "bob_candies = 77\n",
    "carol_candies = 109\n",
    "\n",
    "# Your code goes here! Replace the right-hand side of this assignment with an expression\n",
    "# involving alice_candies, bob_candies, and carol_candies\n",
    "to_smash = (alice_candies + bob_candies + carol_candies) % 3\n",
    "\n",
    "# Check your answer\n",
    "q4.check()"
   ]
  },
  {
   "cell_type": "code",
   "execution_count": 17,
   "id": "826be1b7",
   "metadata": {
    "execution": {
     "iopub.execute_input": "2021-08-04T20:59:31.648401Z",
     "iopub.status.busy": "2021-08-04T20:59:31.647750Z",
     "iopub.status.idle": "2021-08-04T20:59:31.649736Z",
     "shell.execute_reply": "2021-08-04T20:59:31.650177Z"
    },
    "papermill": {
     "duration": 0.033793,
     "end_time": "2021-08-04T20:59:31.650359",
     "exception": false,
     "start_time": "2021-08-04T20:59:31.616566",
     "status": "completed"
    },
    "tags": []
   },
   "outputs": [],
   "source": [
    "#q4.hint()\n",
    "#q4.solution()"
   ]
  },
  {
   "cell_type": "markdown",
   "id": "541e6477",
   "metadata": {
    "papermill": {
     "duration": 0.027439,
     "end_time": "2021-08-04T20:59:31.705655",
     "exception": false,
     "start_time": "2021-08-04T20:59:31.678216",
     "status": "completed"
    },
    "tags": []
   },
   "source": [
    "# Keep Going\n",
    "\n",
    "Next up, you'll **[learn to write new functions and understand functions others write](https://www.kaggle.com/colinmorris/functions-and-getting-help)**. This will make you at least 10 times more productive as a Python programmer. "
   ]
  },
  {
   "cell_type": "markdown",
   "id": "c5bf0097",
   "metadata": {
    "papermill": {
     "duration": 0.027579,
     "end_time": "2021-08-04T20:59:31.760861",
     "exception": false,
     "start_time": "2021-08-04T20:59:31.733282",
     "status": "completed"
    },
    "tags": []
   },
   "source": [
    "---\n",
    "\n",
    "\n",
    "\n",
    "\n",
    "*Have questions or comments? Visit the [Learn Discussion forum](https://www.kaggle.com/learn-forum/161283) to chat with other Learners.*"
   ]
  }
 ],
 "metadata": {
  "kernelspec": {
   "display_name": "Python 3",
   "language": "python",
   "name": "python3"
  },
  "language_info": {
   "codemirror_mode": {
    "name": "ipython",
    "version": 3
   },
   "file_extension": ".py",
   "mimetype": "text/x-python",
   "name": "python",
   "nbconvert_exporter": "python",
   "pygments_lexer": "ipython3",
   "version": "3.7.10"
  },
  "papermill": {
   "default_parameters": {},
   "duration": 10.686487,
   "end_time": "2021-08-04T20:59:32.398390",
   "environment_variables": {},
   "exception": null,
   "input_path": "__notebook__.ipynb",
   "output_path": "__notebook__.ipynb",
   "parameters": {},
   "start_time": "2021-08-04T20:59:21.711903",
   "version": "2.3.3"
  }
 },
 "nbformat": 4,
 "nbformat_minor": 5
}
