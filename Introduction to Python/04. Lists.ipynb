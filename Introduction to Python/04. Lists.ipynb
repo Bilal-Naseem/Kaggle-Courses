{
 "cells": [
  {
   "cell_type": "markdown",
   "id": "a7c0a432",
   "metadata": {
    "papermill": {
     "duration": 0.015511,
     "end_time": "2021-08-06T08:44:11.117023",
     "exception": false,
     "start_time": "2021-08-06T08:44:11.101512",
     "status": "completed"
    },
    "tags": []
   },
   "source": [
    "**This notebook is an exercise in the [Python](https://www.kaggle.com/learn/python) course.  You can reference the tutorial at [this link](https://www.kaggle.com/colinmorris/lists).**\n",
    "\n",
    "---\n"
   ]
  },
  {
   "cell_type": "markdown",
   "id": "71505f62",
   "metadata": {
    "papermill": {
     "duration": 0.013876,
     "end_time": "2021-08-06T08:44:11.145650",
     "exception": false,
     "start_time": "2021-08-06T08:44:11.131774",
     "status": "completed"
    },
    "tags": []
   },
   "source": [
    "Things get more interesting with lists. You'll apply your new knowledge to solve the questions below. Remember to run the following cell first."
   ]
  },
  {
   "cell_type": "code",
   "execution_count": 1,
   "id": "6c943ece",
   "metadata": {
    "execution": {
     "iopub.execute_input": "2021-08-06T08:44:11.178911Z",
     "iopub.status.busy": "2021-08-06T08:44:11.177747Z",
     "iopub.status.idle": "2021-08-06T08:44:11.369361Z",
     "shell.execute_reply": "2021-08-06T08:44:11.369876Z",
     "shell.execute_reply.started": "2021-08-06T08:27:50.881492Z"
    },
    "papermill": {
     "duration": 0.210303,
     "end_time": "2021-08-06T08:44:11.370250",
     "exception": false,
     "start_time": "2021-08-06T08:44:11.159947",
     "status": "completed"
    },
    "tags": []
   },
   "outputs": [
    {
     "name": "stdout",
     "output_type": "stream",
     "text": [
      "Setup complete.\n"
     ]
    }
   ],
   "source": [
    "from learntools.core import binder; binder.bind(globals())\n",
    "from learntools.python.ex4 import *\n",
    "print('Setup complete.')"
   ]
  },
  {
   "cell_type": "markdown",
   "id": "2a3237bb",
   "metadata": {
    "papermill": {
     "duration": 0.016061,
     "end_time": "2021-08-06T08:44:11.401451",
     "exception": false,
     "start_time": "2021-08-06T08:44:11.385390",
     "status": "completed"
    },
    "tags": []
   },
   "source": [
    "# 1.\n",
    "\n",
    "Complete the function below according to its docstring."
   ]
  },
  {
   "cell_type": "code",
   "execution_count": 2,
   "id": "7b3deceb",
   "metadata": {
    "execution": {
     "iopub.execute_input": "2021-08-06T08:44:11.440949Z",
     "iopub.status.busy": "2021-08-06T08:44:11.440098Z",
     "iopub.status.idle": "2021-08-06T08:44:11.450244Z",
     "shell.execute_reply": "2021-08-06T08:44:11.450810Z",
     "shell.execute_reply.started": "2021-08-06T08:28:21.801620Z"
    },
    "papermill": {
     "duration": 0.033469,
     "end_time": "2021-08-06T08:44:11.451025",
     "exception": false,
     "start_time": "2021-08-06T08:44:11.417556",
     "status": "completed"
    },
    "tags": []
   },
   "outputs": [
    {
     "data": {
      "application/javascript": [
       "parent.postMessage({\"jupyterEvent\": \"custom.exercise_interaction\", \"data\": {\"outcomeType\": 1, \"valueTowardsCompletion\": 0.2, \"interactionType\": 1, \"questionType\": 2, \"questionId\": \"1_SelectSecondItem\", \"learnToolsVersion\": \"0.3.4\", \"failureMessage\": \"\", \"exceptionClass\": \"\", \"trace\": \"\"}}, \"*\")"
      ],
      "text/plain": [
       "<IPython.core.display.Javascript object>"
      ]
     },
     "metadata": {},
     "output_type": "display_data"
    },
    {
     "data": {
      "text/markdown": [
       "<span style=\"color:#33cc33\">Correct</span>"
      ],
      "text/plain": [
       "Correct"
      ]
     },
     "metadata": {},
     "output_type": "display_data"
    }
   ],
   "source": [
    "def select_second(L):\n",
    "    \"\"\"Return the second element of the given list. If the list has no second\n",
    "    element, return None.\n",
    "    \"\"\"\n",
    "    if(len(L) >= 2):\n",
    "        return L[1]\n",
    "    else:\n",
    "        return None\n",
    "\n",
    "# Check your answer\n",
    "q1.check()"
   ]
  },
  {
   "cell_type": "code",
   "execution_count": 3,
   "id": "18e979cd",
   "metadata": {
    "collapsed": true,
    "execution": {
     "iopub.execute_input": "2021-08-06T08:44:11.486905Z",
     "iopub.status.busy": "2021-08-06T08:44:11.486125Z",
     "iopub.status.idle": "2021-08-06T08:44:11.490504Z",
     "shell.execute_reply": "2021-08-06T08:44:11.491096Z"
    },
    "jupyter": {
     "outputs_hidden": true
    },
    "papermill": {
     "duration": 0.02442,
     "end_time": "2021-08-06T08:44:11.491343",
     "exception": false,
     "start_time": "2021-08-06T08:44:11.466923",
     "status": "completed"
    },
    "tags": []
   },
   "outputs": [],
   "source": [
    "#q1.hint()\n",
    "#q1.solution()"
   ]
  },
  {
   "cell_type": "markdown",
   "id": "dfaba6b8",
   "metadata": {
    "papermill": {
     "duration": 0.015488,
     "end_time": "2021-08-06T08:44:11.524178",
     "exception": false,
     "start_time": "2021-08-06T08:44:11.508690",
     "status": "completed"
    },
    "tags": []
   },
   "source": [
    "# 2.\n",
    "\n",
    "You are analyzing sports teams.  Members of each team are stored in a list. The Coach is the first name in the list, the captain is the second name in the list, and other players are listed after that. \n",
    "These lists are stored in another list, which starts with the best team and proceeds through the list to the worst team last.  Complete the function below to select the **captain** of the worst team."
   ]
  },
  {
   "cell_type": "code",
   "execution_count": 4,
   "id": "b9461f94",
   "metadata": {
    "execution": {
     "iopub.execute_input": "2021-08-06T08:44:11.561069Z",
     "iopub.status.busy": "2021-08-06T08:44:11.560358Z",
     "iopub.status.idle": "2021-08-06T08:44:11.569679Z",
     "shell.execute_reply": "2021-08-06T08:44:11.568951Z",
     "shell.execute_reply.started": "2021-08-06T08:29:59.559197Z"
    },
    "papermill": {
     "duration": 0.029101,
     "end_time": "2021-08-06T08:44:11.569847",
     "exception": false,
     "start_time": "2021-08-06T08:44:11.540746",
     "status": "completed"
    },
    "tags": []
   },
   "outputs": [
    {
     "data": {
      "application/javascript": [
       "parent.postMessage({\"jupyterEvent\": \"custom.exercise_interaction\", \"data\": {\"outcomeType\": 1, \"valueTowardsCompletion\": 0.2, \"interactionType\": 1, \"questionType\": 2, \"questionId\": \"2_LosingTeamCaptain\", \"learnToolsVersion\": \"0.3.4\", \"failureMessage\": \"\", \"exceptionClass\": \"\", \"trace\": \"\"}}, \"*\")"
      ],
      "text/plain": [
       "<IPython.core.display.Javascript object>"
      ]
     },
     "metadata": {},
     "output_type": "display_data"
    },
    {
     "data": {
      "text/markdown": [
       "<span style=\"color:#33cc33\">Correct</span>"
      ],
      "text/plain": [
       "Correct"
      ]
     },
     "metadata": {},
     "output_type": "display_data"
    }
   ],
   "source": [
    "def losing_team_captain(teams):\n",
    "    \"\"\"Given a list of teams, where each team is a list of names, return the 2nd player (captain)\n",
    "    from the last listed team\n",
    "    \"\"\"\n",
    "    return teams[-1][1]\n",
    "\n",
    "# Check your answer\n",
    "q2.check()"
   ]
  },
  {
   "cell_type": "code",
   "execution_count": 5,
   "id": "9ebd0663",
   "metadata": {
    "collapsed": true,
    "execution": {
     "iopub.execute_input": "2021-08-06T08:44:11.610027Z",
     "iopub.status.busy": "2021-08-06T08:44:11.608947Z",
     "iopub.status.idle": "2021-08-06T08:44:11.612433Z",
     "shell.execute_reply": "2021-08-06T08:44:11.611704Z"
    },
    "jupyter": {
     "outputs_hidden": true
    },
    "papermill": {
     "duration": 0.025603,
     "end_time": "2021-08-06T08:44:11.612624",
     "exception": false,
     "start_time": "2021-08-06T08:44:11.587021",
     "status": "completed"
    },
    "tags": []
   },
   "outputs": [],
   "source": [
    "#q2.hint()\n",
    "#q2.solution()"
   ]
  },
  {
   "cell_type": "markdown",
   "id": "bd3f4bf1",
   "metadata": {
    "papermill": {
     "duration": 0.016974,
     "end_time": "2021-08-06T08:44:11.646798",
     "exception": false,
     "start_time": "2021-08-06T08:44:11.629824",
     "status": "completed"
    },
    "tags": []
   },
   "source": [
    "# 3.\n",
    "\n",
    "The next iteration of Mario Kart will feature an extra-infuriating new item, the *Purple Shell*. When used, it warps the last place racer into first place and the first place racer into last place. Complete the function below to implement the Purple Shell's effect."
   ]
  },
  {
   "cell_type": "code",
   "execution_count": 6,
   "id": "a9ade6ab",
   "metadata": {
    "execution": {
     "iopub.execute_input": "2021-08-06T08:44:11.689335Z",
     "iopub.status.busy": "2021-08-06T08:44:11.688053Z",
     "iopub.status.idle": "2021-08-06T08:44:11.695255Z",
     "shell.execute_reply": "2021-08-06T08:44:11.695817Z",
     "shell.execute_reply.started": "2021-08-06T08:33:35.002562Z"
    },
    "papermill": {
     "duration": 0.032309,
     "end_time": "2021-08-06T08:44:11.696023",
     "exception": false,
     "start_time": "2021-08-06T08:44:11.663714",
     "status": "completed"
    },
    "tags": []
   },
   "outputs": [
    {
     "data": {
      "application/javascript": [
       "parent.postMessage({\"jupyterEvent\": \"custom.exercise_interaction\", \"data\": {\"outcomeType\": 1, \"valueTowardsCompletion\": 0.2, \"interactionType\": 1, \"questionType\": 2, \"questionId\": \"3_PurpleShell\", \"learnToolsVersion\": \"0.3.4\", \"failureMessage\": \"\", \"exceptionClass\": \"\", \"trace\": \"\"}}, \"*\")"
      ],
      "text/plain": [
       "<IPython.core.display.Javascript object>"
      ]
     },
     "metadata": {},
     "output_type": "display_data"
    },
    {
     "data": {
      "text/markdown": [
       "<span style=\"color:#33cc33\">Correct</span>"
      ],
      "text/plain": [
       "Correct"
      ]
     },
     "metadata": {},
     "output_type": "display_data"
    }
   ],
   "source": [
    "def purple_shell(racers):\n",
    "    \"\"\"Given a list of racers, set the first place racer (at the front of the list) to last\n",
    "    place and vice versa.\n",
    "    \n",
    "    >>> r = [\"Mario\", \"Bowser\", \"Luigi\"]\n",
    "    >>> purple_shell(r)\n",
    "    >>> r\n",
    "    [\"Luigi\", \"Bowser\", \"Mario\"]\n",
    "    \"\"\"\n",
    "    racers[0],racers[-1] = racers[-1],racers[0]\n",
    "\n",
    "# Check your answer\n",
    "q3.check()"
   ]
  },
  {
   "cell_type": "code",
   "execution_count": 7,
   "id": "48db1958",
   "metadata": {
    "execution": {
     "iopub.execute_input": "2021-08-06T08:44:11.738494Z",
     "iopub.status.busy": "2021-08-06T08:44:11.737416Z",
     "iopub.status.idle": "2021-08-06T08:44:11.740913Z",
     "shell.execute_reply": "2021-08-06T08:44:11.740217Z"
    },
    "papermill": {
     "duration": 0.026972,
     "end_time": "2021-08-06T08:44:11.741092",
     "exception": false,
     "start_time": "2021-08-06T08:44:11.714120",
     "status": "completed"
    },
    "tags": []
   },
   "outputs": [],
   "source": [
    "# q3.hint()\n",
    "#q3.solution()"
   ]
  },
  {
   "cell_type": "markdown",
   "id": "3ac34fa5",
   "metadata": {
    "papermill": {
     "duration": 0.017797,
     "end_time": "2021-08-06T08:44:11.777739",
     "exception": false,
     "start_time": "2021-08-06T08:44:11.759942",
     "status": "completed"
    },
    "tags": []
   },
   "source": [
    "# 4.\n",
    "\n",
    "What are the lengths of the following lists? Fill in the variable `lengths` with your predictions. (Try to make a prediction for each list *without* just calling `len()` on it.)"
   ]
  },
  {
   "cell_type": "code",
   "execution_count": 8,
   "id": "606348ab",
   "metadata": {
    "execution": {
     "iopub.execute_input": "2021-08-06T08:44:11.823320Z",
     "iopub.status.busy": "2021-08-06T08:44:11.822133Z",
     "iopub.status.idle": "2021-08-06T08:44:11.830425Z",
     "shell.execute_reply": "2021-08-06T08:44:11.829816Z",
     "shell.execute_reply.started": "2021-08-06T08:34:13.650091Z"
    },
    "papermill": {
     "duration": 0.03456,
     "end_time": "2021-08-06T08:44:11.830586",
     "exception": false,
     "start_time": "2021-08-06T08:44:11.796026",
     "status": "completed"
    },
    "tags": []
   },
   "outputs": [
    {
     "data": {
      "application/javascript": [
       "parent.postMessage({\"jupyterEvent\": \"custom.exercise_interaction\", \"data\": {\"outcomeType\": 1, \"valueTowardsCompletion\": 0.2, \"interactionType\": 1, \"questionType\": 1, \"questionId\": \"4_UnderstandLen\", \"learnToolsVersion\": \"0.3.4\", \"failureMessage\": \"\", \"exceptionClass\": \"\", \"trace\": \"\"}}, \"*\")"
      ],
      "text/plain": [
       "<IPython.core.display.Javascript object>"
      ]
     },
     "metadata": {},
     "output_type": "display_data"
    },
    {
     "data": {
      "text/markdown": [
       "<span style=\"color:#33cc33\">Correct:</span> \n",
       "\n",
       "\n",
       "- a: There are three items in this list. Nothing tricky yet.\n",
       "- b: The list `[2, 3]` counts as a single item. It has one item before it. So we have 2 items in the list\n",
       "- c: The empty list has 0 items\n",
       "- d: The expression is the same as the list `[2, 3]`, which has length 2."
      ],
      "text/plain": [
       "Correct: \n",
       "\n",
       "\n",
       "- a: There are three items in this list. Nothing tricky yet.\n",
       "- b: The list `[2, 3]` counts as a single item. It has one item before it. So we have 2 items in the list\n",
       "- c: The empty list has 0 items\n",
       "- d: The expression is the same as the list `[2, 3]`, which has length 2."
      ]
     },
     "metadata": {},
     "output_type": "display_data"
    }
   ],
   "source": [
    "a = [1, 2, 3]\n",
    "b = [1, [2, 3]]\n",
    "c = []\n",
    "d = [1, 2, 3][1:]\n",
    "\n",
    "# Put your predictions in the list below. Lengths should contain 4 numbers, the\n",
    "# first being the length of a, the second being the length of b and so on.\n",
    "lengths = [3,2,0,2]\n",
    "\n",
    "# Check your answer\n",
    "q4.check()"
   ]
  },
  {
   "cell_type": "code",
   "execution_count": 9,
   "id": "edea50ad",
   "metadata": {
    "collapsed": true,
    "execution": {
     "iopub.execute_input": "2021-08-06T08:44:11.873979Z",
     "iopub.status.busy": "2021-08-06T08:44:11.873121Z",
     "iopub.status.idle": "2021-08-06T08:44:11.876720Z",
     "shell.execute_reply": "2021-08-06T08:44:11.877378Z"
    },
    "jupyter": {
     "outputs_hidden": true
    },
    "papermill": {
     "duration": 0.027774,
     "end_time": "2021-08-06T08:44:11.877602",
     "exception": false,
     "start_time": "2021-08-06T08:44:11.849828",
     "status": "completed"
    },
    "tags": []
   },
   "outputs": [],
   "source": [
    "# line below provides some explanation\n",
    "#q4.solution()"
   ]
  },
  {
   "cell_type": "markdown",
   "id": "356bcc3e",
   "metadata": {
    "papermill": {
     "duration": 0.019026,
     "end_time": "2021-08-06T08:44:11.915907",
     "exception": false,
     "start_time": "2021-08-06T08:44:11.896881",
     "status": "completed"
    },
    "tags": []
   },
   "source": [
    "# 5. <span title=\"A bit spicy\" style=\"color: darkgreen \">🌶️</span>\n",
    "\n",
    "We're using lists to record people who attended our party and what order they arrived in. For example, the following list represents a party with 7 guests, in which Adela showed up first and Ford was the last to arrive:\n",
    "\n",
    "    party_attendees = ['Adela', 'Fleda', 'Owen', 'May', 'Mona', 'Gilbert', 'Ford']\n",
    "\n",
    "A guest is considered 'fashionably late' if they arrived after at least half of the party's guests. However, they must not be the very last guest (that's taking it too far). In the above example, Mona and Gilbert are the only guests who were fashionably late.\n",
    "\n",
    "Complete the function below which takes a list of party attendees as well as a person, and tells us whether that person is fashionably late."
   ]
  },
  {
   "cell_type": "code",
   "execution_count": 10,
   "id": "63a48f13",
   "metadata": {
    "execution": {
     "iopub.execute_input": "2021-08-06T08:44:11.958384Z",
     "iopub.status.busy": "2021-08-06T08:44:11.957639Z",
     "iopub.status.idle": "2021-08-06T08:44:11.966670Z",
     "shell.execute_reply": "2021-08-06T08:44:11.966094Z",
     "shell.execute_reply.started": "2021-08-06T08:43:27.288638Z"
    },
    "papermill": {
     "duration": 0.031362,
     "end_time": "2021-08-06T08:44:11.966849",
     "exception": false,
     "start_time": "2021-08-06T08:44:11.935487",
     "status": "completed"
    },
    "tags": []
   },
   "outputs": [
    {
     "data": {
      "application/javascript": [
       "parent.postMessage({\"jupyterEvent\": \"custom.exercise_interaction\", \"data\": {\"outcomeType\": 1, \"valueTowardsCompletion\": 0.2, \"interactionType\": 1, \"questionType\": 2, \"questionId\": \"5_FashionablyLate\", \"learnToolsVersion\": \"0.3.4\", \"failureMessage\": \"\", \"exceptionClass\": \"\", \"trace\": \"\"}}, \"*\")"
      ],
      "text/plain": [
       "<IPython.core.display.Javascript object>"
      ]
     },
     "metadata": {},
     "output_type": "display_data"
    },
    {
     "data": {
      "text/markdown": [
       "<span style=\"color:#33cc33\">Correct</span>"
      ],
      "text/plain": [
       "Correct"
      ]
     },
     "metadata": {},
     "output_type": "display_data"
    }
   ],
   "source": [
    "def fashionably_late(arrivals, name):\n",
    "    \"\"\"Given an ordered list of arrivals to the party and a name, return whether the guest with that\n",
    "    name was fashionably late.\n",
    "    \"\"\"   \n",
    "    return ( arrivals.index(name) >= len(arrivals)/2  ) and ( arrivals.index(name) != len(arrivals)-1)\n",
    "# Check your answer\n",
    "q5.check()"
   ]
  },
  {
   "cell_type": "code",
   "execution_count": 11,
   "id": "2a526eb3",
   "metadata": {
    "collapsed": true,
    "execution": {
     "iopub.execute_input": "2021-08-06T08:44:12.012535Z",
     "iopub.status.busy": "2021-08-06T08:44:12.011773Z",
     "iopub.status.idle": "2021-08-06T08:44:12.013796Z",
     "shell.execute_reply": "2021-08-06T08:44:12.014315Z"
    },
    "jupyter": {
     "outputs_hidden": true
    },
    "papermill": {
     "duration": 0.027468,
     "end_time": "2021-08-06T08:44:12.014518",
     "exception": false,
     "start_time": "2021-08-06T08:44:11.987050",
     "status": "completed"
    },
    "tags": []
   },
   "outputs": [],
   "source": [
    "#q5.hint()\n",
    "#q5.solution()"
   ]
  },
  {
   "cell_type": "markdown",
   "id": "f97cec7f",
   "metadata": {
    "papermill": {
     "duration": 0.020188,
     "end_time": "2021-08-06T08:44:12.055036",
     "exception": false,
     "start_time": "2021-08-06T08:44:12.034848",
     "status": "completed"
    },
    "tags": []
   },
   "source": [
    "# Keep Going\n",
    "\n",
    "That's it for lists and tuples! Now you have the baseline knowledge to **[learn about loops](https://www.kaggle.com/colinmorris/loops-and-list-comprehensions)**, which is where lists and tuples get really interesting. "
   ]
  },
  {
   "cell_type": "markdown",
   "id": "eeabbd50",
   "metadata": {
    "papermill": {
     "duration": 0.019544,
     "end_time": "2021-08-06T08:44:12.094865",
     "exception": false,
     "start_time": "2021-08-06T08:44:12.075321",
     "status": "completed"
    },
    "tags": []
   },
   "source": [
    "---\n",
    "\n",
    "\n",
    "\n",
    "\n",
    "*Have questions or comments? Visit the [Learn Discussion forum](https://www.kaggle.com/learn-forum/161283) to chat with other Learners.*"
   ]
  }
 ],
 "metadata": {
  "kernelspec": {
   "display_name": "Python 3",
   "language": "python",
   "name": "python3"
  },
  "language_info": {
   "codemirror_mode": {
    "name": "ipython",
    "version": 3
   },
   "file_extension": ".py",
   "mimetype": "text/x-python",
   "name": "python",
   "nbconvert_exporter": "python",
   "pygments_lexer": "ipython3",
   "version": "3.7.10"
  },
  "papermill": {
   "default_parameters": {},
   "duration": 10.792046,
   "end_time": "2021-08-06T08:44:13.028627",
   "environment_variables": {},
   "exception": null,
   "input_path": "__notebook__.ipynb",
   "output_path": "__notebook__.ipynb",
   "parameters": {},
   "start_time": "2021-08-06T08:44:02.236581",
   "version": "2.3.3"
  }
 },
 "nbformat": 4,
 "nbformat_minor": 5
}
